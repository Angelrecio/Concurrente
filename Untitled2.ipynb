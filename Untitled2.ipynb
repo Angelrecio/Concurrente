{
 "cells": [
  {
   "cell_type": "code",
   "execution_count": 62,
   "id": "c5399d64-db48-47e2-a6d0-3b8491565cee",
   "metadata": {},
   "outputs": [],
   "source": [
    "import multiprocessing as mp\n",
    "import math\n",
    "import os, numpy"
   ]
  },
  {
   "cell_type": "code",
   "execution_count": 63,
   "id": "8ad1a378-e42b-48ba-a70c-986041808d0d",
   "metadata": {},
   "outputs": [],
   "source": [
    "9a = [(1,2,3),(4,5,6),(7,8,9)]\n",
    "b = [(9,8,7),(6,5,4),(3,2,1)]"
   ]
  },
  {
   "cell_type": "code",
   "execution_count": 64,
   "id": "fa61af7f-89c9-4870-a0f4-d4a1f4a82992",
   "metadata": {},
   "outputs": [],
   "source": [
    "ab = numpy.dot(a,b)"
   ]
  },
  {
   "cell_type": "code",
   "execution_count": 65,
   "id": "ad3d0f7c-739a-49f8-9264-ba6c362e2a21",
   "metadata": {},
   "outputs": [
    {
     "data": {
      "text/plain": [
       "array([[ 30,  24,  18],\n",
       "       [ 84,  69,  54],\n",
       "       [138, 114,  90]])"
      ]
     },
     "execution_count": 65,
     "metadata": {},
     "output_type": "execute_result"
    }
   ],
   "source": [
    "ab"
   ]
  },
  {
   "cell_type": "code",
   "execution_count": 66,
   "id": "7f7db79f-0153-4737-aa67-abbc6267a556",
   "metadata": {},
   "outputs": [],
   "source": [
    "n_cores = os.cpu_count"
   ]
  },
  {
   "cell_type": "code",
   "execution_count": 71,
   "id": "4e69f676-29f8-4637-a2fc-30569f8a17a9",
   "metadata": {},
   "outputs": [],
   "source": [
    "def par(a,b):\n",
    "    n_cores = os.cpu_count()\n",
    "    size_fil = cn_col_b/n_cores\n",
    "    size_col = math.ceil(n_fil_a/n_cores)\n",
    "    cores = []\n",
    "    for core in range(n_cores):\n",
    "        i_mc=math.ceil(core*size_f)\n",
    "        f_mc=math.ceil(core+1*size_f)\n",
    "    mc=mp.RawArray(n_fil_a*n_col_b)\n",
    "    \n",
    "    pass"
   ]
  },
  {
   "cell_type": "code",
   "execution_count": 68,
   "id": "d776710a-4f76-4c26-85a4-6d520ad335bc",
   "metadata": {},
   "outputs": [
    {
     "data": {
      "text/plain": [
       "<multiprocessing.sharedctypes.c_long_Array_80 at 0x1e7652c8d40>"
      ]
     },
     "execution_count": 68,
     "metadata": {},
     "output_type": "execute_result"
    }
   ],
   "source": [
    "mp.RawArray(\"i\",80)"
   ]
  },
  {
   "cell_type": "code",
   "execution_count": 58,
   "id": "5449e15c-e762-4375-8c46-2b68f192fd24",
   "metadata": {},
   "outputs": [],
   "source": [
    "def par_core(a,b,mc,i_mc,f_mc):\n",
    "    for i in range(i_mc,f_mc):\n",
    "        for j in range (len(b)):\n",
    "            mc=[i*len(b[0]) + j] +a[i][k]*b[k][j]"
   ]
  },
  {
   "cell_type": "code",
   "execution_count": 69,
   "id": "4931b887-8947-4570-9e90-ed0a61a297d6",
   "metadata": {},
   "outputs": [
    {
     "data": {
      "text/plain": [
       "5"
      ]
     },
     "execution_count": 69,
     "metadata": {},
     "output_type": "execute_result"
    }
   ],
   "source": [
    "math.ceil(20/os.cpu_count())"
   ]
  },
  {
   "cell_type": "code",
   "execution_count": null,
   "id": "04bfd31c-420a-4ada-ad8a-00209bc7372f",
   "metadata": {},
   "outputs": [],
   "source": []
  }
 ],
 "metadata": {
  "kernelspec": {
   "display_name": "Python 3 (ipykernel)",
   "language": "python",
   "name": "python3"
  },
  "language_info": {
   "codemirror_mode": {
    "name": "ipython",
    "version": 3
   },
   "file_extension": ".py",
   "mimetype": "text/x-python",
   "name": "python",
   "nbconvert_exporter": "python",
   "pygments_lexer": "ipython3",
   "version": "3.9.7"
  }
 },
 "nbformat": 4,
 "nbformat_minor": 5
}
