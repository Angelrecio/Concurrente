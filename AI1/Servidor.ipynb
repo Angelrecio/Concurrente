{
 "cells": [
  {
   "cell_type": "code",
   "execution_count": 8,
   "id": "775ab9a2-42d0-405d-97e8-129323af85da",
   "metadata": {},
   "outputs": [
    {
     "ename": "IndentationError",
     "evalue": "unindent does not match any outer indentation level (<tokenize>, line 34)",
     "output_type": "error",
     "traceback": [
      "\u001b[1;36m  File \u001b[1;32m\"<tokenize>\"\u001b[1;36m, line \u001b[1;32m34\u001b[0m\n\u001b[1;33m    f = open (\"u22052179.txt\",\"a\")\u001b[0m\n\u001b[1;37m    ^\u001b[0m\n\u001b[1;31mIndentationError\u001b[0m\u001b[1;31m:\u001b[0m unindent does not match any outer indentation level\n"
     ]
    }
   ],
   "source": [
    "import socket\n",
    "import threading\n",
    "import sys\n",
    "import pickle\n",
    "import os\n",
    "\n",
    "class Servidor():\n",
    "\tdef __init__(self, host=socket.gethostname(), port=59989):\n",
    "\t\tself.clientes = []\n",
    "\t\tself.sock = socket.socket()\n",
    "\t\tself.sock.bind((str(host), int(port)))\n",
    "\t\tself.sock.listen(20)\n",
    "\t\tself.sock.setblocking(False)\n",
    "\n",
    "\t\taceptar = threading.Thread(target=self.aceptarC)\n",
    "\t\tprocesar = threading.Thread(target=self.procesarC)\n",
    "\t\t\n",
    "\t\taceptar.daemon = True\n",
    "\t\taceptar.start()\n",
    "\n",
    "\t\tprocesar.daemon = True\n",
    "\t\tprocesar.start()\n",
    "\n",
    "\t\twhile True:\n",
    "\t\t\tmsg = input('SALIR = Q\\n')\n",
    "\t\t\tif msg == 'Q':\n",
    "\t\t\t\tprint(\"Que tenga un buen día\")\n",
    "\t\t\t\tself.sock.close()\n",
    "\t\t\t\tsys.exit()\n",
    "\t\t\telse:\n",
    "\t\t\t\tpass\n",
    "\n",
    "\tdef broadcast(self, msg, cliente):\n",
    "\t\tfor c in self.clientes:\n",
    "\t\t\ttry:\n",
    "\t\t\t\tif c != cliente:\n",
    "\t\t\t\t\tc.send(msg)\n",
    "\t\t\texcept:\n",
    "\t\t\t\tself.clientes.remove(c)\n",
    "\n",
    "\tdef aceptarC(self):\n",
    "\t\twhile True:\n",
    "\t\t\ttry:\n",
    "\t\t\t\tconn, addr = self.sock.accept()\n",
    "\t\t\t\tprint(f\"\\nConexion aceptada via {conn}\\n\")\n",
    "\t\t\t\tconn.setblocking(False)\n",
    "\t\t\t\tself.clientes.append(conn)\n",
    "\t\t\texcept:\n",
    "\t\t\t\tpass\n",
    "\n",
    "\tdef procesarC(self):\n",
    "\t\tprint(\"Procesamiento de mensajes iniciado\")\n",
    "\t\twhile True:\n",
    "\t\t\tif len(self.clientes) > 0:\n",
    "\t\t\t\tfor c in self.clientes:\n",
    "\t\t\t\t\ttry:\n",
    "\t\t\t\t\t\tdata = c.recv(32)\n",
    "\t\t\t\t\t\tif data:\n",
    "\t\t\t\t\t\t\tself.broadcast(data,c)\n",
    "\t\t\t\t\texcept:\n",
    "\t\t\t\t\t\tpass\n",
    "\n",
    "s = Servidor()"
   ]
  },
  {
   "cell_type": "code",
   "execution_count": null,
   "id": "9d80d18e-ff6d-43b3-a697-e2201b3837f9",
   "metadata": {},
   "outputs": [],
   "source": []
  }
 ],
 "metadata": {
  "kernelspec": {
   "display_name": "Python 3",
   "language": "python",
   "name": "python3"
  },
  "language_info": {
   "codemirror_mode": {
    "name": "ipython",
    "version": 3
   },
   "file_extension": ".py",
   "mimetype": "text/x-python",
   "name": "python",
   "nbconvert_exporter": "python",
   "pygments_lexer": "ipython3",
   "version": "3.8.8"
  }
 },
 "nbformat": 4,
 "nbformat_minor": 5
}
