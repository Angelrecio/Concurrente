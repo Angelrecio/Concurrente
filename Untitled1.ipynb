{
 "cells": [
  {
   "cell_type": "code",
   "execution_count": null,
   "id": "cc6cbe44-47a2-44fa-831b-a5f96d7f3c2c",
   "metadata": {},
   "outputs": [],
   "source": [
    "import pandas as pd"
   ]
  },
  {
   "cell_type": "code",
   "execution_count": null,
   "id": "f2337ca8-66b5-486c-8347-ce15dcb4dce3",
   "metadata": {},
   "outputs": [],
   "source": [
    "import requests as rq"
   ]
  },
  {
   "cell_type": "code",
   "execution_count": null,
   "id": "29eaff6f-3896-44fe-9940-a96693764ef9",
   "metadata": {},
   "outputs": [],
   "source": [
    "pd.read_excel('Documents/Concurrente/Restaurantes_es_1.xlsx')"
   ]
  },
  {
   "cell_type": "code",
   "execution_count": null,
   "id": "b79ea0c4-697f-4e34-9cef-853b894dca09",
   "metadata": {},
   "outputs": [],
   "source": [
    "url_=\"https://datos.madrid.es/egob/catalogo/300107-0-agenda-actividades-eventos.csv\""
   ]
  },
  {
   "cell_type": "code",
   "execution_count": null,
   "id": "4d43a32c-ea1d-49b3-9c39-2cace3d52019",
   "metadata": {},
   "outputs": [],
   "source": [
    "res_=rq.api.get(url_)"
   ]
  },
  {
   "cell_type": "code",
   "execution_count": null,
   "id": "bfa6747f-5f4b-4e7b-a3a4-fb7bc2bf67fc",
   "metadata": {},
   "outputs": [],
   "source": [
    "res_.headers"
   ]
  },
  {
   "cell_type": "code",
   "execution_count": null,
   "id": "d7c451b7-a01a-4338-931c-6f1bce6bb7c9",
   "metadata": {},
   "outputs": [],
   "source": [
    "res_.text"
   ]
  },
  {
   "cell_type": "code",
   "execution_count": null,
   "id": "11d34c94-362f-43ff-b519-c9bae54d4fea",
   "metadata": {},
   "outputs": [],
   "source": [
    "raw_ = open('pablo.csv','w')"
   ]
  },
  {
   "cell_type": "code",
   "execution_count": null,
   "id": "3eb5a424-1a6c-414c-8bde-a71b41ff2359",
   "metadata": {},
   "outputs": [],
   "source": [
    "less pablo.csv"
   ]
  },
  {
   "cell_type": "code",
   "execution_count": null,
   "id": "88df9404-8435-4f55-9699-5467adfc8dcf",
   "metadata": {},
   "outputs": [],
   "source": [
    "raw_.write(res_.text)"
   ]
  },
  {
   "cell_type": "code",
   "execution_count": null,
   "id": "c8ee5158-f7d2-41be-b9d2-922b573b6143",
   "metadata": {},
   "outputs": [],
   "source": []
  }
 ],
 "metadata": {
  "kernelspec": {
   "display_name": "Python 3 (ipykernel)",
   "language": "python",
   "name": "python3"
  },
  "language_info": {
   "codemirror_mode": {
    "name": "ipython",
    "version": 3
   },
   "file_extension": ".py",
   "mimetype": "text/x-python",
   "name": "python",
   "nbconvert_exporter": "python",
   "pygments_lexer": "ipython3",
   "version": "3.9.7"
  }
 },
 "nbformat": 4,
 "nbformat_minor": 5
}
