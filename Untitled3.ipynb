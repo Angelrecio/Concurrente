{
 "cells": [
  {
   "cell_type": "code",
   "execution_count": 66,
   "id": "000549ce-06f8-4691-98fc-d695e0a9cabf",
   "metadata": {},
   "outputs": [],
   "source": [
    "import random"
   ]
  },
  {
   "cell_type": "code",
   "execution_count": 67,
   "id": "8a1252d4-3267-41db-890c-701020bf48a2",
   "metadata": {},
   "outputs": [],
   "source": [
    "import threading"
   ]
  },
  {
   "cell_type": "markdown",
   "id": "0503f136-e1a3-455d-bb57-2e310c695767",
   "metadata": {},
   "source": [
    "## Clase 5 noviembre"
   ]
  },
  {
   "cell_type": "code",
   "execution_count": 68,
   "id": "f7d6008a-bedb-4f3c-97b7-45d880dcc32b",
   "metadata": {},
   "outputs": [],
   "source": [
    "def randomizar():\n",
    "    print()"
   ]
  },
  {
   "cell_type": "code",
   "execution_count": 69,
   "id": "1efbee6a-2ead-4acb-8a92-aebed1da1175",
   "metadata": {},
   "outputs": [],
   "source": [
    "lista_premiado = [random.randrange(21000000,22999999) for i in range(100)]\n",
    "    "
   ]
  },
  {
   "cell_type": "markdown",
   "id": "56f702b0-e979-477f-8884-064275c35a8d",
   "metadata": {},
   "source": [
    "## Generar matriz de 10x20"
   ]
  },
  {
   "cell_type": "code",
   "execution_count": 78,
   "id": "ddd30b04-eb37-419c-8c9f-84db98fe79ad",
   "metadata": {},
   "outputs": [
    {
     "name": "stdin",
     "output_type": "stream",
     "text": [
      "Dame las filas 11\n",
      "Dame las columnas 10\n"
     ]
    },
    {
     "data": {
      "text/plain": [
       "[[6, 1, 3, 1, 8, 4, 4, 5, 1, 4],\n",
       " [5, 4, 9, 7, 3, 1, 6, 2, 5, 9],\n",
       " [8, 3, 4, 4, 4, 1, 9, 4, 9, 9],\n",
       " [3, 1, 6, 8, 1, 8, 1, 7, 6, 3],\n",
       " [4, 1, 8, 1, 8, 7, 7, 7, 8, 8],\n",
       " [9, 2, 1, 8, 1, 6, 5, 9, 3, 2],\n",
       " [9, 8, 6, 5, 4, 9, 9, 9, 9, 1],\n",
       " [1, 5, 6, 9, 9, 3, 7, 7, 8, 1],\n",
       " [7, 6, 7, 1, 2, 7, 7, 5, 3, 1],\n",
       " [8, 1, 4, 3, 1, 8, 9, 1, 2, 4],\n",
       " [6, 5, 8, 1, 6, 4, 2, 7, 7, 3]]"
      ]
     },
     "execution_count": 78,
     "metadata": {},
     "output_type": "execute_result"
    }
   ],
   "source": [
    "fil_= int(input (\"Dame las filas\"))\n",
    "col_ = int (input(\"Dame las columnas\"))\n",
    "[[random.randrange(1,10) for j in range(col_)] for i in range(fil_)]"
   ]
  },
  {
   "cell_type": "markdown",
   "id": "a90fbe5d-ab2a-4353-ac29-c41a32eee7ed",
   "metadata": {},
   "source": [
    "## Generar todos los DNI"
   ]
  },
  {
   "cell_type": "code",
   "execution_count": 58,
   "id": "b7bdba08-de22-42ee-965d-162af5da17c9",
   "metadata": {},
   "outputs": [],
   "source": [
    "def matriz_1():\n",
    "    [i for i in range(12000000)]    "
   ]
  },
  {
   "cell_type": "code",
   "execution_count": 59,
   "id": "0e479cca-041b-46a6-b1d4-019f77c6c8dd",
   "metadata": {},
   "outputs": [],
   "source": [
    "def matriz_2():\n",
    "    [i for i in range(24000000)]"
   ]
  },
  {
   "cell_type": "code",
   "execution_count": 60,
   "id": "9f980474-c5c5-40b4-b17c-d4cc97bf7126",
   "metadata": {},
   "outputs": [],
   "source": [
    "def matriz_3():\n",
    "    [i for i in range(36000000)]"
   ]
  },
  {
   "cell_type": "code",
   "execution_count": 61,
   "id": "e070fda8-1a26-474e-aa07-4643c5836bad",
   "metadata": {},
   "outputs": [],
   "source": [
    "def matriz_4():\n",
    "    [i for i in range(48000000)]"
   ]
  },
  {
   "cell_type": "code",
   "execution_count": 65,
   "id": "ea799d07-fe94-4396-a4ba-1fa5b3c8cd05",
   "metadata": {},
   "outputs": [
    {
     "ename": "NameError",
     "evalue": "name 'matriz_i' is not defined",
     "output_type": "error",
     "traceback": [
      "\u001b[1;31m---------------------------------------------------------------------------\u001b[0m",
      "\u001b[1;31mNameError\u001b[0m                                 Traceback (most recent call last)",
      "\u001b[1;32m<ipython-input-65-1e77d191b5d3>\u001b[0m in \u001b[0;36m<module>\u001b[1;34m\u001b[0m\n\u001b[0;32m      1\u001b[0m \u001b[1;32mfor\u001b[0m \u001b[0mi\u001b[0m \u001b[1;32min\u001b[0m \u001b[0mrange\u001b[0m\u001b[1;33m(\u001b[0m\u001b[1;36m4\u001b[0m\u001b[1;33m)\u001b[0m\u001b[1;33m:\u001b[0m\u001b[1;33m\u001b[0m\u001b[1;33m\u001b[0m\u001b[0m\n\u001b[1;32m----> 2\u001b[1;33m     \u001b[0mthreading\u001b[0m\u001b[1;33m.\u001b[0m\u001b[0mThread\u001b[0m\u001b[1;33m(\u001b[0m\u001b[0mtarget\u001b[0m \u001b[1;33m=\u001b[0m \u001b[0mmatriz_i\u001b[0m\u001b[1;33m(\u001b[0m\u001b[1;33m)\u001b[0m\u001b[1;33m)\u001b[0m\u001b[1;33m\u001b[0m\u001b[1;33m\u001b[0m\u001b[0m\n\u001b[0m",
      "\u001b[1;31mNameError\u001b[0m: name 'matriz_i' is not defined"
     ]
    }
   ],
   "source": [
    "for i in range(4):\n",
    "    threading.Thread(target = matriz_())"
   ]
  },
  {
   "cell_type": "code",
   "execution_count": null,
   "id": "d5de861b-acfb-4f43-8ba1-e287f020524e",
   "metadata": {},
   "outputs": [],
   "source": []
  }
 ],
 "metadata": {
  "kernelspec": {
   "display_name": "Python 3",
   "language": "python",
   "name": "python3"
  },
  "language_info": {
   "codemirror_mode": {
    "name": "ipython",
    "version": 3
   },
   "file_extension": ".py",
   "mimetype": "text/x-python",
   "name": "python",
   "nbconvert_exporter": "python",
   "pygments_lexer": "ipython3",
   "version": "3.8.8"
  }
 },
 "nbformat": 4,
 "nbformat_minor": 5
}
