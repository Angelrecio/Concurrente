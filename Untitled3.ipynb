{
 "cells": [
  {
   "cell_type": "code",
   "execution_count": null,
   "id": "000549ce-06f8-4691-98fc-d695e0a9cabf",
   "metadata": {},
   "outputs": [],
   "source": [
    "import random"
   ]
  },
  {
   "cell_type": "code",
   "execution_count": null,
   "id": "8a1252d4-3267-41db-890c-701020bf48a2",
   "metadata": {},
   "outputs": [],
   "source": [
    "import threading"
   ]
  },
  {
   "cell_type": "markdown",
   "id": "0503f136-e1a3-455d-bb57-2e310c695767",
   "metadata": {},
   "source": [
    "## Clase comparationlist"
   ]
  },
  {
   "cell_type": "code",
   "execution_count": null,
   "id": "f7d6008a-bedb-4f3c-97b7-45d880dcc32b",
   "metadata": {},
   "outputs": [],
   "source": [
    "def randomizar():\n",
    "    print()"
   ]
  },
  {
   "cell_type": "code",
   "execution_count": null,
   "id": "1efbee6a-2ead-4acb-8a92-aebed1da1175",
   "metadata": {},
   "outputs": [],
   "source": [
    "lista_premiado = [random.randrange(21000000,22999999) for i in range(100)]\n",
    "    "
   ]
  },
  {
   "cell_type": "markdown",
   "id": "56f702b0-e979-477f-8884-064275c35a8d",
   "metadata": {},
   "source": [
    "## Generar matriz de 10x20"
   ]
  },
  {
   "cell_type": "code",
   "execution_count": null,
   "id": "ddd30b04-eb37-419c-8c9f-84db98fe79ad",
   "metadata": {},
   "outputs": [],
   "source": [
    "fil_= int(input (\"Dame las filas\"))\n",
    "col_ = int (input(\"Dame las columnas\"))\n",
    "[[random.randrange(1,10) for j in range(col_)] for i in range(fil_)]"
   ]
  },
  {
   "cell_type": "markdown",
   "id": "a90fbe5d-ab2a-4353-ac29-c41a32eee7ed",
   "metadata": {},
   "source": [
    "## Generar todos los DNI"
   ]
  },
  {
   "cell_type": "code",
   "execution_count": 9,
   "id": "b7bdba08-de22-42ee-965d-162af5da17c9",
   "metadata": {},
   "outputs": [],
   "source": [
    "def matriz_1():\n",
    "    [i for i in range(12000000)]    "
   ]
  },
  {
   "cell_type": "code",
   "execution_count": 10,
   "id": "0e479cca-041b-46a6-b1d4-019f77c6c8dd",
   "metadata": {},
   "outputs": [],
   "source": [
    "def matriz_2():\n",
    "    [i for i in range(24000000)]"
   ]
  },
  {
   "cell_type": "code",
   "execution_count": 11,
   "id": "9f980474-c5c5-40b4-b17c-d4cc97bf7126",
   "metadata": {},
   "outputs": [],
   "source": [
    "def matriz_3():\n",
    "    [i for i in range(36000000)]"
   ]
  },
  {
   "cell_type": "code",
   "execution_count": 12,
   "id": "e070fda8-1a26-474e-aa07-4643c5836bad",
   "metadata": {},
   "outputs": [],
   "source": [
    "def matriz_4():\n",
    "    [i for i in range(48000000)]"
   ]
  },
  {
   "cell_type": "code",
   "execution_count": 13,
   "id": "ea799d07-fe94-4396-a4ba-1fa5b3c8cd05",
   "metadata": {},
   "outputs": [
    {
     "data": {
      "text/plain": [
       "<bound method Thread.start of <Thread(Thread-9, initial)>>"
      ]
     },
     "execution_count": 13,
     "metadata": {},
     "output_type": "execute_result"
    }
   ],
   "source": [
    "threading.Thread(target = matriz_1()).start\n",
    "threading.Thread(target = matriz_2()).start\n",
    "threading.Thread(target = matriz_3()).start\n",
    "threading.Thread(target = matriz_4()).start"
   ]
  },
  {
   "cell_type": "code",
   "execution_count": null,
   "id": "d5de861b-acfb-4f43-8ba1-e287f020524e",
   "metadata": {},
   "outputs": [],
   "source": []
  }
 ],
 "metadata": {
  "kernelspec": {
   "display_name": "Python 3 (ipykernel)",
   "language": "python",
   "name": "python3"
  },
  "language_info": {
   "codemirror_mode": {
    "name": "ipython",
    "version": 3
   },
   "file_extension": ".py",
   "mimetype": "text/x-python",
   "name": "python",
   "nbconvert_exporter": "python",
   "pygments_lexer": "ipython3",
   "version": "3.9.7"
  }
 },
 "nbformat": 4,
 "nbformat_minor": 5
}
