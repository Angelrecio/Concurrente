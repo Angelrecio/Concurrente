{
 "cells": [
  {
   "cell_type": "markdown",
   "id": "4649e8da-a17c-4a4f-993e-5291f24da76f",
   "metadata": {},
   "source": [
    "# Bajar simultaneas imágenes mediante un programa en python"
   ]
  },
  {
   "cell_type": "code",
   "execution_count": 86,
   "id": "eab30ff5-6141-4e9e-8460-6221f87d1725",
   "metadata": {},
   "outputs": [],
   "source": [
    "from IPython import display"
   ]
  },
  {
   "cell_type": "code",
   "execution_count": null,
   "id": "4eec9598-b04c-4fc2-843a-75b39eae7156",
   "metadata": {},
   "outputs": [],
   "source": [
    "pip install wget"
   ]
  },
  {
   "cell_type": "code",
   "execution_count": null,
   "id": "95f9c47e-b42a-4f57-9245-86e8dca798af",
   "metadata": {},
   "outputs": [],
   "source": [
    "import requests, threading, wget"
   ]
  },
  {
   "cell_type": "code",
   "execution_count": null,
   "id": "9d6d1a90-e36d-4533-9cec-3ee781c973df",
   "metadata": {},
   "outputs": [],
   "source": [
    "def descargar_():\n",
    "    wget.download(url_, direccion_)\n",
    "    print(myfile.headers)"
   ]
  },
  {
   "cell_type": "code",
   "execution_count": null,
   "id": "d9f87b83-4f92-4013-a9e5-e455cb38d577",
   "metadata": {},
   "outputs": [],
   "source": [
    "for i in range (10):\n",
    "    url_ = \"https://storage.googleapis.com/christian_vladimir_sucuzhanay_bucket/pictures_videos/pic00\" + str (i) +\".jpeg\"\n",
    "    direccion_ = 'C:\\descargas_prueba/descarga' + str(i) + '.jpeg'\n",
    "    threading.Thread(target= descargar_()).start()"
   ]
  }
 ],
 "metadata": {
  "kernelspec": {
   "display_name": "Python 3",
   "language": "python",
   "name": "python3"
  },
  "language_info": {
   "codemirror_mode": {
    "name": "ipython",
    "version": 3
   },
   "file_extension": ".py",
   "mimetype": "text/x-python",
   "name": "python",
   "nbconvert_exporter": "python",
   "pygments_lexer": "ipython3",
   "version": "3.8.8"
  }
 },
 "nbformat": 4,
 "nbformat_minor": 5
}
