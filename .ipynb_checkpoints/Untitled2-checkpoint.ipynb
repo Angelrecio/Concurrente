{
 "cells": [
  {
   "cell_type": "code",
   "execution_count": null,
   "id": "c5399d64-db48-47e2-a6d0-3b8491565cee",
   "metadata": {},
   "outputs": [],
   "source": [
    "import multiprocessing as mp_\n",
    "import os, numpy"
   ]
  },
  {
   "cell_type": "code",
   "execution_count": null,
   "id": "8ad1a378-e42b-48ba-a70c-986041808d0d",
   "metadata": {},
   "outputs": [],
   "source": [
    "a = [(1,2,3),(4,5,6),(7,8,9)]\n",
    "b = [(9,8,7),(6,5,4),(3,2,1)]"
   ]
  },
  {
   "cell_type": "code",
   "execution_count": 30,
   "id": "fa61af7f-89c9-4870-a0f4-d4a1f4a82992",
   "metadata": {},
   "outputs": [],
   "source": [
    "ab = numpy.dot(a,b)"
   ]
  },
  {
   "cell_type": "code",
   "execution_count": 31,
   "id": "ad3d0f7c-739a-49f8-9264-ba6c362e2a21",
   "metadata": {},
   "outputs": [
    {
     "data": {
      "text/plain": [
       "array([[ 30,  24,  18],\n",
       "       [ 84,  69,  54],\n",
       "       [138, 114,  90]])"
      ]
     },
     "execution_count": 31,
     "metadata": {},
     "output_type": "execute_result"
    }
   ],
   "source": [
    "ab"
   ]
  },
  {
   "cell_type": "code",
   "execution_count": 1,
   "id": "4e69f676-29f8-4637-a2fc-30569f8a17a9",
   "metadata": {},
   "outputs": [],
   "source": [
    "def par(a,b):\n",
    "    n_cores = mp.cpu_count()\n",
    "    size_fil = n_col_b/n_cores\n",
    "    sizecol = n_fil_a/n_cores\n",
    "    mc = mp.RawArray\n",
    "    \n",
    "    pass"
   ]
  },
  {
   "cell_type": "code",
   "execution_count": null,
   "id": "5449e15c-e762-4375-8c46-2b68f192fd24",
   "metadata": {},
   "outputs": [],
   "source": [
    "def par_core(a,b,mc,i_mc,f_mc):\n",
    "    for i in range(i_mc,f_mc):\n",
    "        for j in range (len(b)):\n",
    "            mc=[i*len(b[0]) + j] +=a[i][k]*b[k][j]"
   ]
  },
  {
   "cell_type": "code",
   "execution_count": 4,
   "id": "2653d5c6-d8fa-4874-8143-9879a974025f",
   "metadata": {},
   "outputs": [
    {
     "data": {
      "text/plain": [
       "'C:\\\\Users\\\\Ángel\\\\Documents\\\\Concurrente'"
      ]
     },
     "execution_count": 4,
     "metadata": {},
     "output_type": "execute_result"
    }
   ],
   "source": [
    "pwd"
   ]
  },
  {
   "cell_type": "code",
   "execution_count": null,
   "id": "1bd64ac8-bc45-4a26-bd58-06f4310f363b",
   "metadata": {},
   "outputs": [],
   "source": []
  }
 ],
 "metadata": {
  "kernelspec": {
   "display_name": "Python 3",
   "language": "python",
   "name": "python3"
  },
  "language_info": {
   "codemirror_mode": {
    "name": "ipython",
    "version": 3
   },
   "file_extension": ".py",
   "mimetype": "text/x-python",
   "name": "python",
   "nbconvert_exporter": "python",
   "pygments_lexer": "ipython3",
   "version": "3.8.8"
  }
 },
 "nbformat": 4,
 "nbformat_minor": 5
}
