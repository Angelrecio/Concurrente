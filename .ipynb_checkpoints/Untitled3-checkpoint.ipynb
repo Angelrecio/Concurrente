{
 "cells": [
  {
   "cell_type": "code",
   "execution_count": 1,
   "id": "000549ce-06f8-4691-98fc-d695e0a9cabf",
   "metadata": {},
   "outputs": [],
   "source": [
    "import random"
   ]
  },
  {
   "cell_type": "code",
   "execution_count": null,
   "id": "8a1252d4-3267-41db-890c-701020bf48a2",
   "metadata": {},
   "outputs": [],
   "source": [
    "import threading"
   ]
  },
  {
   "cell_type": "markdown",
   "id": "0503f136-e1a3-455d-bb57-2e310c695767",
   "metadata": {},
   "source": [
    "## Clase 5 noviembre"
   ]
  },
  {
   "cell_type": "code",
   "execution_count": null,
   "id": "f7d6008a-bedb-4f3c-97b7-45d880dcc32b",
   "metadata": {},
   "outputs": [],
   "source": [
    "def randomizar():\n",
    "    print()"
   ]
  },
  {
   "cell_type": "code",
   "execution_count": 8,
   "id": "1efbee6a-2ead-4acb-8a92-aebed1da1175",
   "metadata": {},
   "outputs": [],
   "source": [
    "lista_premiado = [random.randrange(21000000,22999999) for i in range(100)]\n",
    "    "
   ]
  },
  {
   "cell_type": "markdown",
   "id": "56f702b0-e979-477f-8884-064275c35a8d",
   "metadata": {},
   "source": [
    "## Generar matriz de 10x20"
   ]
  },
  {
   "cell_type": "code",
   "execution_count": 37,
   "id": "ddd30b04-eb37-419c-8c9f-84db98fe79ad",
   "metadata": {},
   "outputs": [
    {
     "name": "stdin",
     "output_type": "stream",
     "text": [
      "Dame las filas 20\n",
      "Dame las columnas 13\n"
     ]
    },
    {
     "data": {
      "text/plain": [
       "[[1, 9, 4, 6, 1, 3, 9, 7, 9, 9, 3, 3, 8],\n",
       " [8, 8, 4, 8, 9, 1, 1, 2, 3, 3, 6, 7, 8],\n",
       " [6, 1, 1, 1, 1, 7, 9, 3, 7, 2, 2, 2, 9],\n",
       " [4, 7, 5, 7, 9, 3, 6, 8, 9, 9, 9, 6, 6],\n",
       " [4, 6, 1, 4, 5, 2, 2, 3, 5, 2, 7, 5, 1],\n",
       " [5, 5, 4, 5, 3, 5, 7, 3, 8, 2, 9, 8, 9],\n",
       " [6, 2, 3, 9, 1, 4, 7, 1, 9, 3, 1, 9, 9],\n",
       " [8, 7, 7, 5, 6, 4, 1, 7, 4, 7, 1, 7, 7],\n",
       " [2, 9, 9, 1, 1, 5, 4, 4, 1, 1, 4, 8, 2],\n",
       " [1, 6, 9, 2, 8, 7, 9, 6, 5, 3, 3, 2, 5],\n",
       " [6, 3, 5, 8, 8, 1, 3, 7, 8, 8, 9, 3, 7],\n",
       " [3, 2, 1, 1, 6, 8, 3, 2, 5, 8, 6, 2, 2],\n",
       " [7, 9, 4, 2, 5, 9, 9, 7, 3, 6, 1, 3, 1],\n",
       " [5, 4, 9, 1, 7, 2, 9, 4, 1, 4, 8, 3, 8],\n",
       " [6, 5, 3, 9, 6, 9, 9, 3, 2, 7, 4, 1, 8],\n",
       " [9, 1, 6, 7, 1, 5, 1, 3, 9, 3, 4, 4, 1],\n",
       " [9, 3, 4, 7, 2, 4, 2, 7, 9, 2, 8, 2, 6],\n",
       " [7, 3, 5, 2, 4, 4, 7, 7, 4, 7, 6, 6, 3],\n",
       " [9, 3, 2, 9, 7, 4, 5, 6, 3, 8, 5, 7, 6],\n",
       " [4, 7, 8, 2, 3, 9, 1, 6, 8, 8, 1, 7, 6]]"
      ]
     },
     "execution_count": 37,
     "metadata": {},
     "output_type": "execute_result"
    }
   ],
   "source": [
    "fil_= int(input (\"Dame las filas\"))\n",
    "col_ = int (input(\"Dame las columnas\"))\n",
    "[[random.randrange(1,10) for j in range(col_)] for i in range(fil_)]"
   ]
  },
  {
   "cell_type": "markdown",
   "id": "a90fbe5d-ab2a-4353-ac29-c41a32eee7ed",
   "metadata": {},
   "source": [
    "## Generar todos los DNI"
   ]
  },
  {
   "cell_type": "code",
   "execution_count": 43,
   "id": "b7bdba08-de22-42ee-965d-162af5da17c9",
   "metadata": {},
   "outputs": [
    {
     "ename": "NameError",
     "evalue": "name 'threading' is not defined",
     "output_type": "error",
     "traceback": [
      "\u001b[1;31m---------------------------------------------------------------------------\u001b[0m",
      "\u001b[1;31mNameError\u001b[0m                                 Traceback (most recent call last)",
      "\u001b[1;32m<ipython-input-43-c208fd8674fb>\u001b[0m in \u001b[0;36m<module>\u001b[1;34m\u001b[0m\n\u001b[1;32m----> 1\u001b[1;33m \u001b[0mthreading\u001b[0m\u001b[1;33m.\u001b[0m\u001b[0mThread\u001b[0m\u001b[1;33m(\u001b[0m\u001b[1;33m)\u001b[0m\u001b[1;33m.\u001b[0m\u001b[0mstart\u001b[0m\u001b[1;33m(\u001b[0m\u001b[1;33m)\u001b[0m\u001b[1;33m\u001b[0m\u001b[1;33m\u001b[0m\u001b[0m\n\u001b[0m\u001b[0;32m      2\u001b[0m \u001b[0mthreading\u001b[0m\u001b[1;33m.\u001b[0m\u001b[0mThread\u001b[0m\u001b[1;33m(\u001b[0m\u001b[1;33m)\u001b[0m\u001b[1;33m.\u001b[0m\u001b[0mstart\u001b[0m\u001b[1;33m(\u001b[0m\u001b[1;33m)\u001b[0m\u001b[1;33m\u001b[0m\u001b[1;33m\u001b[0m\u001b[0m\n\u001b[0;32m      3\u001b[0m \u001b[1;33m[\u001b[0m\u001b[0mi\u001b[0m \u001b[1;32mfor\u001b[0m \u001b[0mi\u001b[0m \u001b[1;32min\u001b[0m \u001b[0mrange\u001b[0m\u001b[1;33m(\u001b[0m\u001b[1;36m12000000\u001b[0m\u001b[1;33m)\u001b[0m\u001b[1;33m]\u001b[0m\u001b[1;33m\u001b[0m\u001b[1;33m\u001b[0m\u001b[0m\n\u001b[0;32m      4\u001b[0m \u001b[1;33m[\u001b[0m\u001b[0mi\u001b[0m \u001b[1;32mfor\u001b[0m \u001b[0mi\u001b[0m \u001b[1;32min\u001b[0m \u001b[0mrange\u001b[0m\u001b[1;33m(\u001b[0m\u001b[1;36m24000000\u001b[0m\u001b[1;33m)\u001b[0m\u001b[1;33m]\u001b[0m\u001b[1;33m\u001b[0m\u001b[1;33m\u001b[0m\u001b[0m\n\u001b[0;32m      5\u001b[0m \u001b[1;33m[\u001b[0m\u001b[0mi\u001b[0m \u001b[1;32mfor\u001b[0m \u001b[0mi\u001b[0m \u001b[1;32min\u001b[0m \u001b[0mrange\u001b[0m\u001b[1;33m(\u001b[0m\u001b[1;36m36000000\u001b[0m\u001b[1;33m)\u001b[0m\u001b[1;33m]\u001b[0m\u001b[1;33m\u001b[0m\u001b[1;33m\u001b[0m\u001b[0m\n",
      "\u001b[1;31mNameError\u001b[0m: name 'threading' is not defined"
     ]
    }
   ],
   "source": [
    "threading.Thread([i for i in range(12000000)]).start()\n",
    "threading.Thread([i for i in range(24000000)]).start()\n",
    "threading.Thread([i for i in range(36000000)]).start()\n",
    "threading.Thread([i for i in range(48000000)]).start()\n",
    "\n",
    "\n",
    "\n",
    "\n"
   ]
  },
  {
   "cell_type": "code",
   "execution_count": null,
   "id": "ea799d07-fe94-4396-a4ba-1fa5b3c8cd05",
   "metadata": {},
   "outputs": [],
   "source": []
  }
 ],
 "metadata": {
  "kernelspec": {
   "display_name": "Python 3",
   "language": "python",
   "name": "python3"
  },
  "language_info": {
   "codemirror_mode": {
    "name": "ipython",
    "version": 3
   },
   "file_extension": ".py",
   "mimetype": "text/x-python",
   "name": "python",
   "nbconvert_exporter": "python",
   "pygments_lexer": "ipython3",
   "version": "3.8.8"
  }
 },
 "nbformat": 4,
 "nbformat_minor": 5
}
